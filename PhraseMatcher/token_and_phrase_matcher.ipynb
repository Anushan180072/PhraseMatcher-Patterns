{
  "nbformat": 4,
  "nbformat_minor": 0,
  "metadata": {
    "colab": {
      "provenance": []
    },
    "kernelspec": {
      "name": "python3",
      "display_name": "Python 3"
    },
    "language_info": {
      "name": "python"
    }
  },
  "cells": [
    {
      "cell_type": "code",
      "execution_count": 30,
      "metadata": {
        "colab": {
          "base_uri": "https://localhost:8080/"
        },
        "id": "WqiEQAD3vMHz",
        "outputId": "22f9d7c8-355a-4c93-9675-3bd4419d575d"
      },
      "outputs": [
        {
          "output_type": "stream",
          "name": "stdout",
          "text": [
            "15578876784678163569 HelloWorld 6 9 HELLO WORLD!\n"
          ]
        }
      ],
      "source": [
        "#token matcher\n",
        "\n",
        "import spacy\n",
        "from spacy.matcher import Matcher\n",
        "nlp = spacy.load(\"en_core_web_sm\")\n",
        "matcher = Matcher(nlp.vocab)\n",
        "pattern = [{\"LOWER\": \"hello\"}, {\"LOWER\": \"world\"}, {\"IS_PUNCT\": True}]\n",
        "matcher.add(\"HelloWorld\", [pattern])\n",
        "\n",
        "doc = nlp(\"hi my name is anusha. HELLO WORLD! Hello? world!\")\n",
        "matches = matcher(doc)\n",
        "for match_id, start, end in matches:\n",
        "    string_id = nlp.vocab.strings[match_id]  # Get string representation\n",
        "    span = doc[start:end]  # The matched span\n",
        "    print(match_id, string_id, start, end, span.text)\n"
      ]
    },
    {
      "cell_type": "code",
      "source": [
        "#phrase matcher\n",
        "\n",
        "import spacy\n",
        "from spacy.matcher import PhraseMatcher\n",
        "nlp = spacy.load(\"en_core_web_sm\")\n",
        "matcher = PhraseMatcher(nlp.vocab)\n",
        "terms = [\"Barack Obama\", \"Angela Merkel\", \"Washington, D.C.\"]\n",
        "patterns = [nlp.make_doc(text) for text in terms]\n",
        "matcher.add(\"TerminologyList\", patterns)\n",
        "\n",
        "doc = nlp(\"German Chancellor Angela Merkel and US President Barack Obama \"\n",
        "          \"converse in the Oval Office inside the White House in Washington, D.C.\")\n",
        "matches = matcher(doc)\n",
        "\n",
        "for match_id, start, end in matches:\n",
        "    print(match_id,start,end)\n",
        "    span = doc[start:end]\n",
        "    print(span.text)\n"
      ],
      "metadata": {
        "colab": {
          "base_uri": "https://localhost:8080/"
        },
        "id": "wCUAJyz4wS1b",
        "outputId": "d137f094-5afe-4382-aba2-d105aaa75583"
      },
      "execution_count": 31,
      "outputs": [
        {
          "output_type": "stream",
          "name": "stdout",
          "text": [
            "3766102292120407359 2 4\n",
            "Angela Merkel\n",
            "3766102292120407359 7 9\n",
            "Barack Obama\n",
            "3766102292120407359 19 22\n",
            "Washington, D.C.\n"
          ]
        }
      ]
    },
    {
      "cell_type": "code",
      "source": [
        "#phrase matcher for resume\n",
        "\n",
        "import spacy\n",
        "from spacy.matcher import PhraseMatcher\n",
        "\n",
        "nlp = spacy.load('en_core_web_sm')\n",
        "skills_patterns = ['Python', 'Java', 'SQL', 'Machine Learning', 'DBMS', 'JavaScript','Data Structures']\n",
        "branch=[\"Computer Science Engineering\"]\n",
        "matcher = PhraseMatcher(nlp.vocab)\n",
        "patterns1 = [nlp.make_doc(skill) for skill in skills_patterns]\n",
        "patterns2 = [nlp.make_doc(skill) for skill in branch]\n",
        "matcher.add('SKILLS', patterns1)\n",
        "matcher.add('BRANCH', patterns2)\n",
        "\n",
        "with open(\"/content/resume.txt\",\"r\",encoding=\"utf-8\") as resume:\n",
        "  text=resume.read()\n",
        "doc = nlp(text)\n",
        "matches = matcher(doc)\n",
        "print(\"Branch and extracted skills\")\n",
        "for match_id, start, end in matches:\n",
        "    span = doc[start:end]\n",
        "    print(\"index: \",start,end,\"  text: \",span.text)\n",
        "\n"
      ],
      "metadata": {
        "colab": {
          "base_uri": "https://localhost:8080/"
        },
        "id": "6vPAUyv75jWZ",
        "outputId": "843b8a27-0ab2-4c89-8bde-a6c8d2eeeff9"
      },
      "execution_count": 32,
      "outputs": [
        {
          "output_type": "stream",
          "name": "stdout",
          "text": [
            "Branch and extracted skills\n",
            "index:  31 34   text:  Computer Science Engineering\n",
            "index:  131 132   text:  Python\n",
            "index:  135 136   text:  Java\n",
            "index:  139 141   text:  Data Structures\n",
            "index:  142 143   text:  DBMS\n",
            "index:  148 149   text:  JavaScript\n",
            "index:  461 464   text:  Computer Science Engineering\n"
          ]
        }
      ]
    }
  ]
}